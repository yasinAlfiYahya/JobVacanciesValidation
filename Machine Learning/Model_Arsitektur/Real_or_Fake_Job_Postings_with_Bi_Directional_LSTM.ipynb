{
  "cells": [
    {
      "cell_type": "markdown",
      "metadata": {
        "id": "Syp8xxSOFxts"
      },
      "source": [
        "# Bi-Directional LSTM"
      ]
    },
    {
      "cell_type": "code",
      "execution_count": null,
      "metadata": {
        "id": "oefKZLMPGKTG"
      },
      "outputs": [],
      "source": [
        "import numpy as np\n",
        "import pandas as pd"
      ]
    },
    {
      "cell_type": "code",
      "execution_count": null,
      "metadata": {
        "id": "A29ZM7cKGX44"
      },
      "outputs": [],
      "source": [
        "df1 = pd.read_csv('./fake_job_postings.csv')"
      ]
    },
    {
      "cell_type": "code",
      "execution_count": null,
      "metadata": {
        "colab": {
          "base_uri": "https://localhost:8080/",
          "height": 600
        },
        "id": "Vsfr6lIYGctX",
        "outputId": "24de4f41-6be5-4288-8ace-9d369d289878"
      },
      "outputs": [
        {
          "data": {
            "text/html": [
              "\n",
              "  <div id=\"df-ec500004-642b-4ffa-b898-df4bb1312029\">\n",
              "    <div class=\"colab-df-container\">\n",
              "      <div>\n",
              "<style scoped>\n",
              "    .dataframe tbody tr th:only-of-type {\n",
              "        vertical-align: middle;\n",
              "    }\n",
              "\n",
              "    .dataframe tbody tr th {\n",
              "        vertical-align: top;\n",
              "    }\n",
              "\n",
              "    .dataframe thead th {\n",
              "        text-align: right;\n",
              "    }\n",
              "</style>\n",
              "<table border=\"1\" class=\"dataframe\">\n",
              "  <thead>\n",
              "    <tr style=\"text-align: right;\">\n",
              "      <th></th>\n",
              "      <th>job_id</th>\n",
              "      <th>title</th>\n",
              "      <th>location</th>\n",
              "      <th>department</th>\n",
              "      <th>salary_range</th>\n",
              "      <th>company_profile</th>\n",
              "      <th>description</th>\n",
              "      <th>requirements</th>\n",
              "      <th>benefits</th>\n",
              "      <th>telecommuting</th>\n",
              "      <th>has_company_logo</th>\n",
              "      <th>has_questions</th>\n",
              "      <th>employment_type</th>\n",
              "      <th>required_experience</th>\n",
              "      <th>required_education</th>\n",
              "      <th>industry</th>\n",
              "      <th>function</th>\n",
              "      <th>fraudulent</th>\n",
              "    </tr>\n",
              "  </thead>\n",
              "  <tbody>\n",
              "    <tr>\n",
              "      <th>0</th>\n",
              "      <td>1</td>\n",
              "      <td>Marketing Intern</td>\n",
              "      <td>US, NY, New York</td>\n",
              "      <td>Marketing</td>\n",
              "      <td>NaN</td>\n",
              "      <td>We're Food52, and we've created a groundbreaki...</td>\n",
              "      <td>Food52, a fast-growing, James Beard Award-winn...</td>\n",
              "      <td>Experience with content management systems a m...</td>\n",
              "      <td>NaN</td>\n",
              "      <td>0</td>\n",
              "      <td>1</td>\n",
              "      <td>0</td>\n",
              "      <td>Other</td>\n",
              "      <td>Internship</td>\n",
              "      <td>NaN</td>\n",
              "      <td>NaN</td>\n",
              "      <td>Marketing</td>\n",
              "      <td>0</td>\n",
              "    </tr>\n",
              "    <tr>\n",
              "      <th>1</th>\n",
              "      <td>2</td>\n",
              "      <td>Customer Service - Cloud Video Production</td>\n",
              "      <td>NZ, , Auckland</td>\n",
              "      <td>Success</td>\n",
              "      <td>NaN</td>\n",
              "      <td>90 Seconds, the worlds Cloud Video Production ...</td>\n",
              "      <td>Organised - Focused - Vibrant - Awesome!Do you...</td>\n",
              "      <td>What we expect from you:Your key responsibilit...</td>\n",
              "      <td>What you will get from usThrough being part of...</td>\n",
              "      <td>0</td>\n",
              "      <td>1</td>\n",
              "      <td>0</td>\n",
              "      <td>Full-time</td>\n",
              "      <td>Not Applicable</td>\n",
              "      <td>NaN</td>\n",
              "      <td>Marketing and Advertising</td>\n",
              "      <td>Customer Service</td>\n",
              "      <td>0</td>\n",
              "    </tr>\n",
              "    <tr>\n",
              "      <th>2</th>\n",
              "      <td>3</td>\n",
              "      <td>Commissioning Machinery Assistant (CMA)</td>\n",
              "      <td>US, IA, Wever</td>\n",
              "      <td>NaN</td>\n",
              "      <td>NaN</td>\n",
              "      <td>Valor Services provides Workforce Solutions th...</td>\n",
              "      <td>Our client, located in Houston, is actively se...</td>\n",
              "      <td>Implement pre-commissioning and commissioning ...</td>\n",
              "      <td>NaN</td>\n",
              "      <td>0</td>\n",
              "      <td>1</td>\n",
              "      <td>0</td>\n",
              "      <td>NaN</td>\n",
              "      <td>NaN</td>\n",
              "      <td>NaN</td>\n",
              "      <td>NaN</td>\n",
              "      <td>NaN</td>\n",
              "      <td>0</td>\n",
              "    </tr>\n",
              "    <tr>\n",
              "      <th>3</th>\n",
              "      <td>4</td>\n",
              "      <td>Account Executive - Washington DC</td>\n",
              "      <td>US, DC, Washington</td>\n",
              "      <td>Sales</td>\n",
              "      <td>NaN</td>\n",
              "      <td>Our passion for improving quality of life thro...</td>\n",
              "      <td>THE COMPANY: ESRI – Environmental Systems Rese...</td>\n",
              "      <td>EDUCATION: Bachelor’s or Master’s in GIS, busi...</td>\n",
              "      <td>Our culture is anything but corporate—we have ...</td>\n",
              "      <td>0</td>\n",
              "      <td>1</td>\n",
              "      <td>0</td>\n",
              "      <td>Full-time</td>\n",
              "      <td>Mid-Senior level</td>\n",
              "      <td>Bachelor's Degree</td>\n",
              "      <td>Computer Software</td>\n",
              "      <td>Sales</td>\n",
              "      <td>0</td>\n",
              "    </tr>\n",
              "    <tr>\n",
              "      <th>4</th>\n",
              "      <td>5</td>\n",
              "      <td>Bill Review Manager</td>\n",
              "      <td>US, FL, Fort Worth</td>\n",
              "      <td>NaN</td>\n",
              "      <td>NaN</td>\n",
              "      <td>SpotSource Solutions LLC is a Global Human Cap...</td>\n",
              "      <td>JOB TITLE: Itemization Review ManagerLOCATION:...</td>\n",
              "      <td>QUALIFICATIONS:RN license in the State of Texa...</td>\n",
              "      <td>Full Benefits Offered</td>\n",
              "      <td>0</td>\n",
              "      <td>1</td>\n",
              "      <td>1</td>\n",
              "      <td>Full-time</td>\n",
              "      <td>Mid-Senior level</td>\n",
              "      <td>Bachelor's Degree</td>\n",
              "      <td>Hospital &amp; Health Care</td>\n",
              "      <td>Health Care Provider</td>\n",
              "      <td>0</td>\n",
              "    </tr>\n",
              "  </tbody>\n",
              "</table>\n",
              "</div>\n",
              "      <button class=\"colab-df-convert\" onclick=\"convertToInteractive('df-ec500004-642b-4ffa-b898-df4bb1312029')\"\n",
              "              title=\"Convert this dataframe to an interactive table.\"\n",
              "              style=\"display:none;\">\n",
              "        \n",
              "  <svg xmlns=\"http://www.w3.org/2000/svg\" height=\"24px\"viewBox=\"0 0 24 24\"\n",
              "       width=\"24px\">\n",
              "    <path d=\"M0 0h24v24H0V0z\" fill=\"none\"/>\n",
              "    <path d=\"M18.56 5.44l.94 2.06.94-2.06 2.06-.94-2.06-.94-.94-2.06-.94 2.06-2.06.94zm-11 1L8.5 8.5l.94-2.06 2.06-.94-2.06-.94L8.5 2.5l-.94 2.06-2.06.94zm10 10l.94 2.06.94-2.06 2.06-.94-2.06-.94-.94-2.06-.94 2.06-2.06.94z\"/><path d=\"M17.41 7.96l-1.37-1.37c-.4-.4-.92-.59-1.43-.59-.52 0-1.04.2-1.43.59L10.3 9.45l-7.72 7.72c-.78.78-.78 2.05 0 2.83L4 21.41c.39.39.9.59 1.41.59.51 0 1.02-.2 1.41-.59l7.78-7.78 2.81-2.81c.8-.78.8-2.07 0-2.86zM5.41 20L4 18.59l7.72-7.72 1.47 1.35L5.41 20z\"/>\n",
              "  </svg>\n",
              "      </button>\n",
              "      \n",
              "  <style>\n",
              "    .colab-df-container {\n",
              "      display:flex;\n",
              "      flex-wrap:wrap;\n",
              "      gap: 12px;\n",
              "    }\n",
              "\n",
              "    .colab-df-convert {\n",
              "      background-color: #E8F0FE;\n",
              "      border: none;\n",
              "      border-radius: 50%;\n",
              "      cursor: pointer;\n",
              "      display: none;\n",
              "      fill: #1967D2;\n",
              "      height: 32px;\n",
              "      padding: 0 0 0 0;\n",
              "      width: 32px;\n",
              "    }\n",
              "\n",
              "    .colab-df-convert:hover {\n",
              "      background-color: #E2EBFA;\n",
              "      box-shadow: 0px 1px 2px rgba(60, 64, 67, 0.3), 0px 1px 3px 1px rgba(60, 64, 67, 0.15);\n",
              "      fill: #174EA6;\n",
              "    }\n",
              "\n",
              "    [theme=dark] .colab-df-convert {\n",
              "      background-color: #3B4455;\n",
              "      fill: #D2E3FC;\n",
              "    }\n",
              "\n",
              "    [theme=dark] .colab-df-convert:hover {\n",
              "      background-color: #434B5C;\n",
              "      box-shadow: 0px 1px 3px 1px rgba(0, 0, 0, 0.15);\n",
              "      filter: drop-shadow(0px 1px 2px rgba(0, 0, 0, 0.3));\n",
              "      fill: #FFFFFF;\n",
              "    }\n",
              "  </style>\n",
              "\n",
              "      <script>\n",
              "        const buttonEl =\n",
              "          document.querySelector('#df-ec500004-642b-4ffa-b898-df4bb1312029 button.colab-df-convert');\n",
              "        buttonEl.style.display =\n",
              "          google.colab.kernel.accessAllowed ? 'block' : 'none';\n",
              "\n",
              "        async function convertToInteractive(key) {\n",
              "          const element = document.querySelector('#df-ec500004-642b-4ffa-b898-df4bb1312029');\n",
              "          const dataTable =\n",
              "            await google.colab.kernel.invokeFunction('convertToInteractive',\n",
              "                                                     [key], {});\n",
              "          if (!dataTable) return;\n",
              "\n",
              "          const docLinkHtml = 'Like what you see? Visit the ' +\n",
              "            '<a target=\"_blank\" href=https://colab.research.google.com/notebooks/data_table.ipynb>data table notebook</a>'\n",
              "            + ' to learn more about interactive tables.';\n",
              "          element.innerHTML = '';\n",
              "          dataTable['output_type'] = 'display_data';\n",
              "          await google.colab.output.renderOutput(dataTable, element);\n",
              "          const docLink = document.createElement('div');\n",
              "          docLink.innerHTML = docLinkHtml;\n",
              "          element.appendChild(docLink);\n",
              "        }\n",
              "      </script>\n",
              "    </div>\n",
              "  </div>\n",
              "  "
            ],
            "text/plain": [
              "   job_id                                      title            location  \\\n",
              "0       1                           Marketing Intern    US, NY, New York   \n",
              "1       2  Customer Service - Cloud Video Production      NZ, , Auckland   \n",
              "2       3    Commissioning Machinery Assistant (CMA)       US, IA, Wever   \n",
              "3       4          Account Executive - Washington DC  US, DC, Washington   \n",
              "4       5                        Bill Review Manager  US, FL, Fort Worth   \n",
              "\n",
              "  department salary_range                                    company_profile  \\\n",
              "0  Marketing          NaN  We're Food52, and we've created a groundbreaki...   \n",
              "1    Success          NaN  90 Seconds, the worlds Cloud Video Production ...   \n",
              "2        NaN          NaN  Valor Services provides Workforce Solutions th...   \n",
              "3      Sales          NaN  Our passion for improving quality of life thro...   \n",
              "4        NaN          NaN  SpotSource Solutions LLC is a Global Human Cap...   \n",
              "\n",
              "                                         description  \\\n",
              "0  Food52, a fast-growing, James Beard Award-winn...   \n",
              "1  Organised - Focused - Vibrant - Awesome!Do you...   \n",
              "2  Our client, located in Houston, is actively se...   \n",
              "3  THE COMPANY: ESRI – Environmental Systems Rese...   \n",
              "4  JOB TITLE: Itemization Review ManagerLOCATION:...   \n",
              "\n",
              "                                        requirements  \\\n",
              "0  Experience with content management systems a m...   \n",
              "1  What we expect from you:Your key responsibilit...   \n",
              "2  Implement pre-commissioning and commissioning ...   \n",
              "3  EDUCATION: Bachelor’s or Master’s in GIS, busi...   \n",
              "4  QUALIFICATIONS:RN license in the State of Texa...   \n",
              "\n",
              "                                            benefits  telecommuting  \\\n",
              "0                                                NaN              0   \n",
              "1  What you will get from usThrough being part of...              0   \n",
              "2                                                NaN              0   \n",
              "3  Our culture is anything but corporate—we have ...              0   \n",
              "4                              Full Benefits Offered              0   \n",
              "\n",
              "   has_company_logo  has_questions employment_type required_experience  \\\n",
              "0                 1              0           Other          Internship   \n",
              "1                 1              0       Full-time      Not Applicable   \n",
              "2                 1              0             NaN                 NaN   \n",
              "3                 1              0       Full-time    Mid-Senior level   \n",
              "4                 1              1       Full-time    Mid-Senior level   \n",
              "\n",
              "  required_education                   industry              function  \\\n",
              "0                NaN                        NaN             Marketing   \n",
              "1                NaN  Marketing and Advertising      Customer Service   \n",
              "2                NaN                        NaN                   NaN   \n",
              "3  Bachelor's Degree          Computer Software                 Sales   \n",
              "4  Bachelor's Degree     Hospital & Health Care  Health Care Provider   \n",
              "\n",
              "   fraudulent  \n",
              "0           0  \n",
              "1           0  \n",
              "2           0  \n",
              "3           0  \n",
              "4           0  "
            ]
          },
          "execution_count": 4,
          "metadata": {},
          "output_type": "execute_result"
        }
      ],
      "source": [
        "df1.head()"
      ]
    },
    {
      "cell_type": "code",
      "execution_count": null,
      "metadata": {
        "colab": {
          "base_uri": "https://localhost:8080/"
        },
        "id": "SpsIDXv3GeMX",
        "outputId": "4f6f6bef-6c76-4d3a-9762-bcfa96598129"
      },
      "outputs": [
        {
          "data": {
            "text/plain": [
              "(17880, 18)"
            ]
          },
          "execution_count": 5,
          "metadata": {},
          "output_type": "execute_result"
        }
      ],
      "source": [
        "df1.shape"
      ]
    },
    {
      "cell_type": "code",
      "execution_count": null,
      "metadata": {
        "colab": {
          "base_uri": "https://localhost:8080/",
          "height": 206
        },
        "id": "RlXAbNMhGfUD",
        "outputId": "0b1bb222-262a-4662-8623-7060a227f6b0"
      },
      "outputs": [
        {
          "data": {
            "text/html": [
              "\n",
              "  <div id=\"df-d09132f6-9e27-46b5-834a-f5a026f43351\">\n",
              "    <div class=\"colab-df-container\">\n",
              "      <div>\n",
              "<style scoped>\n",
              "    .dataframe tbody tr th:only-of-type {\n",
              "        vertical-align: middle;\n",
              "    }\n",
              "\n",
              "    .dataframe tbody tr th {\n",
              "        vertical-align: top;\n",
              "    }\n",
              "\n",
              "    .dataframe thead th {\n",
              "        text-align: right;\n",
              "    }\n",
              "</style>\n",
              "<table border=\"1\" class=\"dataframe\">\n",
              "  <thead>\n",
              "    <tr style=\"text-align: right;\">\n",
              "      <th></th>\n",
              "      <th>description</th>\n",
              "      <th>requirements</th>\n",
              "      <th>fraudulent</th>\n",
              "    </tr>\n",
              "  </thead>\n",
              "  <tbody>\n",
              "    <tr>\n",
              "      <th>0</th>\n",
              "      <td>Food52, a fast-growing, James Beard Award-winn...</td>\n",
              "      <td>Experience with content management systems a m...</td>\n",
              "      <td>0</td>\n",
              "    </tr>\n",
              "    <tr>\n",
              "      <th>1</th>\n",
              "      <td>Organised - Focused - Vibrant - Awesome!Do you...</td>\n",
              "      <td>What we expect from you:Your key responsibilit...</td>\n",
              "      <td>0</td>\n",
              "    </tr>\n",
              "    <tr>\n",
              "      <th>2</th>\n",
              "      <td>Our client, located in Houston, is actively se...</td>\n",
              "      <td>Implement pre-commissioning and commissioning ...</td>\n",
              "      <td>0</td>\n",
              "    </tr>\n",
              "    <tr>\n",
              "      <th>3</th>\n",
              "      <td>THE COMPANY: ESRI – Environmental Systems Rese...</td>\n",
              "      <td>EDUCATION: Bachelor’s or Master’s in GIS, busi...</td>\n",
              "      <td>0</td>\n",
              "    </tr>\n",
              "    <tr>\n",
              "      <th>4</th>\n",
              "      <td>JOB TITLE: Itemization Review ManagerLOCATION:...</td>\n",
              "      <td>QUALIFICATIONS:RN license in the State of Texa...</td>\n",
              "      <td>0</td>\n",
              "    </tr>\n",
              "  </tbody>\n",
              "</table>\n",
              "</div>\n",
              "      <button class=\"colab-df-convert\" onclick=\"convertToInteractive('df-d09132f6-9e27-46b5-834a-f5a026f43351')\"\n",
              "              title=\"Convert this dataframe to an interactive table.\"\n",
              "              style=\"display:none;\">\n",
              "        \n",
              "  <svg xmlns=\"http://www.w3.org/2000/svg\" height=\"24px\"viewBox=\"0 0 24 24\"\n",
              "       width=\"24px\">\n",
              "    <path d=\"M0 0h24v24H0V0z\" fill=\"none\"/>\n",
              "    <path d=\"M18.56 5.44l.94 2.06.94-2.06 2.06-.94-2.06-.94-.94-2.06-.94 2.06-2.06.94zm-11 1L8.5 8.5l.94-2.06 2.06-.94-2.06-.94L8.5 2.5l-.94 2.06-2.06.94zm10 10l.94 2.06.94-2.06 2.06-.94-2.06-.94-.94-2.06-.94 2.06-2.06.94z\"/><path d=\"M17.41 7.96l-1.37-1.37c-.4-.4-.92-.59-1.43-.59-.52 0-1.04.2-1.43.59L10.3 9.45l-7.72 7.72c-.78.78-.78 2.05 0 2.83L4 21.41c.39.39.9.59 1.41.59.51 0 1.02-.2 1.41-.59l7.78-7.78 2.81-2.81c.8-.78.8-2.07 0-2.86zM5.41 20L4 18.59l7.72-7.72 1.47 1.35L5.41 20z\"/>\n",
              "  </svg>\n",
              "      </button>\n",
              "      \n",
              "  <style>\n",
              "    .colab-df-container {\n",
              "      display:flex;\n",
              "      flex-wrap:wrap;\n",
              "      gap: 12px;\n",
              "    }\n",
              "\n",
              "    .colab-df-convert {\n",
              "      background-color: #E8F0FE;\n",
              "      border: none;\n",
              "      border-radius: 50%;\n",
              "      cursor: pointer;\n",
              "      display: none;\n",
              "      fill: #1967D2;\n",
              "      height: 32px;\n",
              "      padding: 0 0 0 0;\n",
              "      width: 32px;\n",
              "    }\n",
              "\n",
              "    .colab-df-convert:hover {\n",
              "      background-color: #E2EBFA;\n",
              "      box-shadow: 0px 1px 2px rgba(60, 64, 67, 0.3), 0px 1px 3px 1px rgba(60, 64, 67, 0.15);\n",
              "      fill: #174EA6;\n",
              "    }\n",
              "\n",
              "    [theme=dark] .colab-df-convert {\n",
              "      background-color: #3B4455;\n",
              "      fill: #D2E3FC;\n",
              "    }\n",
              "\n",
              "    [theme=dark] .colab-df-convert:hover {\n",
              "      background-color: #434B5C;\n",
              "      box-shadow: 0px 1px 3px 1px rgba(0, 0, 0, 0.15);\n",
              "      filter: drop-shadow(0px 1px 2px rgba(0, 0, 0, 0.3));\n",
              "      fill: #FFFFFF;\n",
              "    }\n",
              "  </style>\n",
              "\n",
              "      <script>\n",
              "        const buttonEl =\n",
              "          document.querySelector('#df-d09132f6-9e27-46b5-834a-f5a026f43351 button.colab-df-convert');\n",
              "        buttonEl.style.display =\n",
              "          google.colab.kernel.accessAllowed ? 'block' : 'none';\n",
              "\n",
              "        async function convertToInteractive(key) {\n",
              "          const element = document.querySelector('#df-d09132f6-9e27-46b5-834a-f5a026f43351');\n",
              "          const dataTable =\n",
              "            await google.colab.kernel.invokeFunction('convertToInteractive',\n",
              "                                                     [key], {});\n",
              "          if (!dataTable) return;\n",
              "\n",
              "          const docLinkHtml = 'Like what you see? Visit the ' +\n",
              "            '<a target=\"_blank\" href=https://colab.research.google.com/notebooks/data_table.ipynb>data table notebook</a>'\n",
              "            + ' to learn more about interactive tables.';\n",
              "          element.innerHTML = '';\n",
              "          dataTable['output_type'] = 'display_data';\n",
              "          await google.colab.output.renderOutput(dataTable, element);\n",
              "          const docLink = document.createElement('div');\n",
              "          docLink.innerHTML = docLinkHtml;\n",
              "          element.appendChild(docLink);\n",
              "        }\n",
              "      </script>\n",
              "    </div>\n",
              "  </div>\n",
              "  "
            ],
            "text/plain": [
              "                                         description  \\\n",
              "0  Food52, a fast-growing, James Beard Award-winn...   \n",
              "1  Organised - Focused - Vibrant - Awesome!Do you...   \n",
              "2  Our client, located in Houston, is actively se...   \n",
              "3  THE COMPANY: ESRI – Environmental Systems Rese...   \n",
              "4  JOB TITLE: Itemization Review ManagerLOCATION:...   \n",
              "\n",
              "                                        requirements  fraudulent  \n",
              "0  Experience with content management systems a m...           0  \n",
              "1  What we expect from you:Your key responsibilit...           0  \n",
              "2  Implement pre-commissioning and commissioning ...           0  \n",
              "3  EDUCATION: Bachelor’s or Master’s in GIS, busi...           0  \n",
              "4  QUALIFICATIONS:RN license in the State of Texa...           0  "
            ]
          },
          "execution_count": 6,
          "metadata": {},
          "output_type": "execute_result"
        }
      ],
      "source": [
        "df=df1[['description','requirements','fraudulent']]\n",
        "df.head()"
      ]
    },
    {
      "cell_type": "code",
      "execution_count": null,
      "metadata": {
        "id": "7ZBafDCyGgdv"
      },
      "outputs": [],
      "source": [
        "df=df.dropna()"
      ]
    },
    {
      "cell_type": "code",
      "execution_count": null,
      "metadata": {
        "colab": {
          "base_uri": "https://localhost:8080/"
        },
        "id": "A6t1vX9fGhjA",
        "outputId": "947e5eef-71e4-450e-a4c1-fc775625496d"
      },
      "outputs": [
        {
          "data": {
            "text/plain": [
              "(15185, 3)"
            ]
          },
          "execution_count": 8,
          "metadata": {},
          "output_type": "execute_result"
        }
      ],
      "source": [
        "df.shape"
      ]
    },
    {
      "cell_type": "code",
      "execution_count": null,
      "metadata": {
        "id": "88t7jQ3dGikE"
      },
      "outputs": [],
      "source": [
        "X=df.drop('fraudulent',axis=1)"
      ]
    },
    {
      "cell_type": "code",
      "execution_count": null,
      "metadata": {
        "id": "kDs04b5cGjVT"
      },
      "outputs": [],
      "source": [
        "y=df['fraudulent']"
      ]
    },
    {
      "cell_type": "code",
      "execution_count": null,
      "metadata": {
        "colab": {
          "base_uri": "https://localhost:8080/"
        },
        "id": "iVywc8JvGj_x",
        "outputId": "a9bc0109-c9e9-45cb-a166-d1aa3f6569f0"
      },
      "outputs": [
        {
          "data": {
            "text/plain": [
              "0    14473\n",
              "1      712\n",
              "Name: fraudulent, dtype: int64"
            ]
          },
          "execution_count": 11,
          "metadata": {},
          "output_type": "execute_result"
        }
      ],
      "source": [
        "y.value_counts()"
      ]
    },
    {
      "cell_type": "code",
      "execution_count": null,
      "metadata": {
        "colab": {
          "base_uri": "https://localhost:8080/",
          "height": 36
        },
        "id": "v6KoqJ52GlDq",
        "outputId": "08a0342c-77be-48e8-8292-10901136cbc2"
      },
      "outputs": [
        {
          "data": {
            "application/vnd.google.colaboratory.intrinsic+json": {
              "type": "string"
            },
            "text/plain": [
              "'2.8.0'"
            ]
          },
          "execution_count": 12,
          "metadata": {},
          "output_type": "execute_result"
        }
      ],
      "source": [
        "import tensorflow as tf\n",
        "tf.__version__"
      ]
    },
    {
      "cell_type": "code",
      "execution_count": null,
      "metadata": {
        "id": "0-1bsOzAGnTc"
      },
      "outputs": [],
      "source": [
        "from tensorflow.keras.layers import Embedding\n",
        "from tensorflow.keras.preprocessing.sequence import pad_sequences\n",
        "from tensorflow.keras.models import Sequential\n",
        "from tensorflow.keras.preprocessing.text import one_hot\n",
        "from tensorflow.keras.layers import LSTM\n",
        "from tensorflow.keras.layers import Dense\n",
        "from tensorflow.keras.layers import Bidirectional\n",
        "from tensorflow.keras.layers import Dropout\n",
        "from keras.layers import TimeDistributed"
      ]
    },
    {
      "cell_type": "code",
      "execution_count": null,
      "metadata": {
        "id": "FdNckCILGovt"
      },
      "outputs": [],
      "source": [
        "voc_size=5000"
      ]
    },
    {
      "cell_type": "code",
      "execution_count": null,
      "metadata": {
        "id": "le-LJ8BwGp0n"
      },
      "outputs": [],
      "source": [
        "message = X.copy()"
      ]
    },
    {
      "cell_type": "code",
      "execution_count": null,
      "metadata": {
        "colab": {
          "base_uri": "https://localhost:8080/",
          "height": 123
        },
        "id": "CFyWqLN3GqnG",
        "outputId": "da4ee93d-54ed-4b4d-f822-602f356d24df"
      },
      "outputs": [
        {
          "data": {
            "application/vnd.google.colaboratory.intrinsic+json": {
              "type": "string"
            },
            "text/plain": [
              "\"Organised - Focused - Vibrant - Awesome!Do you have a passion for customer service? Slick typing skills? Maybe Account Management? ...And think administration is cooler than a polar bear on a jetski? Then we need to hear you!\\xa0We are the Cloud Video Production Service and opperating on a glodal level. Yeah, it's pretty cool. Serious about\\xa0delivering a world class product and excellent customer service.Our rapidly expanding business is looking for a talented Project Manager to manage the successful delivery of video projects, manage client communications and drive the production process. Work with some of the coolest brands on the planet and learn from a global team that are representing NZ is a huge way!We are entering the next growth stage of our business and growing quickly internationally. \\xa0Therefore, the position is bursting with opportunity for the right person entering the business at the right time.\\xa090 Seconds, the worlds Cloud Video Production Service -\\xa0http://90#URL_fbe6559afac620a3cd2c22281f7b8d0eef56a73e3d9a311e2f1ca13d081dd630#90 Seconds is the worlds Cloud Video Production Service enabling brands and agencies to get high quality online video content shot and produced anywhere in the world. Fast, affordable, and all managed seamlessly in the cloud from purchase to publish.\\xa090 Seconds removes the hassle, cost, risk and speed issues of working with regular video production companies by managing every aspect of video projects in a beautiful online experience. \\xa0With a growing network of over 2,000 rated video professionals in over 50 countries and dedicated production success teams in 5 countries guaranteeing video project success 100%. It's as easy as commissioning a quick google adwords campaign.90 Seconds has produced almost 4,000 videos in over 30 Countries for over 500 Global brands including some of the worlds largest including Paypal, L'oreal, Sony and Barclays and has offices in Auckland, London, Sydney, Tokyo &amp; Singapore.Our Auckland office is based\\xa0right in the heart of the Wynyard Quarter Innovation Precinct - GridAKL!\\xa0\""
            ]
          },
          "execution_count": 16,
          "metadata": {},
          "output_type": "execute_result"
        }
      ],
      "source": [
        "message['description'][1]"
      ]
    },
    {
      "cell_type": "code",
      "execution_count": null,
      "metadata": {
        "id": "uMuxVY_8Gr0C"
      },
      "outputs": [],
      "source": [
        "message.reset_index(inplace=True)"
      ]
    },
    {
      "cell_type": "code",
      "execution_count": null,
      "metadata": {
        "colab": {
          "base_uri": "https://localhost:8080/"
        },
        "id": "lUCoxbrGGti5",
        "outputId": "063f0a79-e2e3-48e3-a8dc-003a7af210f7"
      },
      "outputs": [
        {
          "name": "stdout",
          "output_type": "stream",
          "text": [
            "Looking in indexes: https://pypi.org/simple, https://us-python.pkg.dev/colab-wheels/public/simple/\n",
            "\u001b[31mERROR: Could not find a version that satisfies the requirement ntlk (from versions: none)\u001b[0m\n",
            "\u001b[31mERROR: No matching distribution found for ntlk\u001b[0m\n"
          ]
        }
      ],
      "source": [
        "!pip install ntlk"
      ]
    },
    {
      "cell_type": "code",
      "execution_count": null,
      "metadata": {
        "id": "EPKQsV08Gs3e"
      },
      "outputs": [],
      "source": [
        "import nltk\n",
        "import re\n",
        "from nltk.corpus import stopwords"
      ]
    },
    {
      "cell_type": "code",
      "execution_count": null,
      "metadata": {
        "colab": {
          "base_uri": "https://localhost:8080/"
        },
        "id": "qLbQvMXSGv3B",
        "outputId": "9a1da5e9-83e8-4f7e-fd99-d78c3dbe2462"
      },
      "outputs": [
        {
          "name": "stdout",
          "output_type": "stream",
          "text": [
            "[nltk_data] Downloading package stopwords to /root/nltk_data...\n",
            "[nltk_data]   Unzipping corpora/stopwords.zip.\n"
          ]
        },
        {
          "data": {
            "text/plain": [
              "True"
            ]
          },
          "execution_count": 22,
          "metadata": {},
          "output_type": "execute_result"
        }
      ],
      "source": [
        "nltk.download('stopwords')"
      ]
    },
    {
      "cell_type": "code",
      "execution_count": null,
      "metadata": {
        "id": "7AsV3yRCGxTQ"
      },
      "outputs": [],
      "source": [
        "from nltk.stem.porter import PorterStemmer\n",
        "ps = PorterStemmer()\n",
        "corpus = []\n",
        "for i in range(0, len(message)):\n",
        "    review = re.sub('[^a-zA-Z]', ' ', message['description'][i])\n",
        "    review = review.lower()\n",
        "    review = review.split()\n",
        "    \n",
        "    review = [ps.stem(word) for word in review if not word in stopwords.words('english')]\n",
        "    review = ' '.join(review)\n",
        "    corpus.append(review)"
      ]
    },
    {
      "cell_type": "code",
      "execution_count": null,
      "metadata": {
        "colab": {
          "base_uri": "https://localhost:8080/",
          "height": 123
        },
        "id": "1lMR_dTgGygh",
        "outputId": "548c7760-ffb5-41fc-ef40-de61bc9a90af"
      },
      "outputs": [
        {
          "data": {
            "application/vnd.google.colaboratory.intrinsic+json": {
              "type": "string"
            },
            "text/plain": [
              "'organis focus vibrant awesom passion custom servic slick type skill mayb account manag think administr cooler polar bear jetski need hear cloud video product servic opper glodal level yeah pretti cool seriou deliv world class product excel custom servic rapidli expand busi look talent project manag manag success deliveri video project manag client commun drive product process work coolest brand planet learn global team repres nz huge way enter next growth stage busi grow quickli intern therefor posit burst opportun right person enter busi right time second world cloud video product servic http url fbe afac cd c f b eef e e f ca dd second world cloud video product servic enabl brand agenc get high qualiti onlin video content shot produc anywher world fast afford manag seamlessli cloud purchas publish second remov hassl cost risk speed issu work regular video product compani manag everi aspect video project beauti onlin experi grow network rate video profession countri dedic product success team countri guarante video project success easi commiss quick googl adword campaign second produc almost video countri global brand includ world largest includ paypal l oreal soni barclay offic auckland london sydney tokyo amp singapor auckland offic base right heart wynyard quarter innov precinct gridakl'"
            ]
          },
          "execution_count": 24,
          "metadata": {},
          "output_type": "execute_result"
        }
      ],
      "source": [
        "corpus[1]"
      ]
    },
    {
      "cell_type": "code",
      "execution_count": null,
      "metadata": {
        "colab": {
          "base_uri": "https://localhost:8080/"
        },
        "id": "8UIvLovhGzkc",
        "outputId": "0f67344e-2259-49f4-d88b-9ed0818dcb3c"
      },
      "outputs": [
        {
          "data": {
            "text/plain": [
              "[1391,\n",
              " 3748,\n",
              " 4992,\n",
              " 3683,\n",
              " 2875,\n",
              " 2330,\n",
              " 187,\n",
              " 4762,\n",
              " 4018,\n",
              " 1029,\n",
              " 3392,\n",
              " 4041,\n",
              " 891,\n",
              " 790,\n",
              " 1906,\n",
              " 3457,\n",
              " 3522,\n",
              " 1246,\n",
              " 2805,\n",
              " 2944,\n",
              " 1149,\n",
              " 2245,\n",
              " 37,\n",
              " 3908,\n",
              " 187,\n",
              " 3435,\n",
              " 2450,\n",
              " 1120,\n",
              " 1647,\n",
              " 1107,\n",
              " 637,\n",
              " 3947,\n",
              " 1435,\n",
              " 3275,\n",
              " 1711,\n",
              " 3908,\n",
              " 3305,\n",
              " 2330,\n",
              " 187,\n",
              " 4814,\n",
              " 2312,\n",
              " 1698,\n",
              " 3100,\n",
              " 4715,\n",
              " 4089,\n",
              " 891,\n",
              " 891,\n",
              " 225,\n",
              " 4,\n",
              " 37,\n",
              " 4089,\n",
              " 891,\n",
              " 1600,\n",
              " 1983,\n",
              " 2629,\n",
              " 3908,\n",
              " 620,\n",
              " 4081,\n",
              " 590,\n",
              " 4394,\n",
              " 3986,\n",
              " 1553,\n",
              " 2329,\n",
              " 2383,\n",
              " 1062,\n",
              " 3523,\n",
              " 2869,\n",
              " 2811,\n",
              " 2711,\n",
              " 4514,\n",
              " 4448,\n",
              " 1705,\n",
              " 1698,\n",
              " 4649,\n",
              " 3173,\n",
              " 2267,\n",
              " 1170,\n",
              " 1010,\n",
              " 2766,\n",
              " 2658,\n",
              " 3366,\n",
              " 1207,\n",
              " 2711,\n",
              " 1698,\n",
              " 3366,\n",
              " 1121,\n",
              " 3480,\n",
              " 3275,\n",
              " 2245,\n",
              " 37,\n",
              " 3908,\n",
              " 187,\n",
              " 3512,\n",
              " 2641,\n",
              " 1035,\n",
              " 3791,\n",
              " 2458,\n",
              " 2961,\n",
              " 4913,\n",
              " 1225,\n",
              " 2491,\n",
              " 4063,\n",
              " 4063,\n",
              " 4913,\n",
              " 4867,\n",
              " 2397,\n",
              " 3480,\n",
              " 3275,\n",
              " 2245,\n",
              " 37,\n",
              " 3908,\n",
              " 187,\n",
              " 4680,\n",
              " 4394,\n",
              " 1010,\n",
              " 2300,\n",
              " 1538,\n",
              " 4123,\n",
              " 3729,\n",
              " 37,\n",
              " 2213,\n",
              " 2567,\n",
              " 3119,\n",
              " 38,\n",
              " 3275,\n",
              " 2571,\n",
              " 4304,\n",
              " 891,\n",
              " 965,\n",
              " 2245,\n",
              " 989,\n",
              " 3231,\n",
              " 3480,\n",
              " 4573,\n",
              " 257,\n",
              " 4255,\n",
              " 4732,\n",
              " 4040,\n",
              " 440,\n",
              " 4081,\n",
              " 145,\n",
              " 37,\n",
              " 3908,\n",
              " 2353,\n",
              " 891,\n",
              " 1194,\n",
              " 1924,\n",
              " 37,\n",
              " 4089,\n",
              " 2243,\n",
              " 3729,\n",
              " 820,\n",
              " 4649,\n",
              " 483,\n",
              " 1612,\n",
              " 37,\n",
              " 2245,\n",
              " 256,\n",
              " 103,\n",
              " 3908,\n",
              " 225,\n",
              " 2383,\n",
              " 256,\n",
              " 3109,\n",
              " 37,\n",
              " 4089,\n",
              " 225,\n",
              " 4048,\n",
              " 3320,\n",
              " 119,\n",
              " 1016,\n",
              " 2686,\n",
              " 1770,\n",
              " 3480,\n",
              " 3119,\n",
              " 3479,\n",
              " 37,\n",
              " 256,\n",
              " 2329,\n",
              " 4394,\n",
              " 2123,\n",
              " 3275,\n",
              " 4435,\n",
              " 2123,\n",
              " 3029,\n",
              " 1808,\n",
              " 3342,\n",
              " 3549,\n",
              " 4331,\n",
              " 3985,\n",
              " 3951,\n",
              " 875,\n",
              " 4090,\n",
              " 2748,\n",
              " 4174,\n",
              " 2134,\n",
              " 3951,\n",
              " 3985,\n",
              " 241,\n",
              " 3366,\n",
              " 534,\n",
              " 4261,\n",
              " 1980,\n",
              " 4174,\n",
              " 1945,\n",
              " 3182]"
            ]
          },
          "execution_count": 25,
          "metadata": {},
          "output_type": "execute_result"
        }
      ],
      "source": [
        "onehot_repr=[one_hot(words,voc_size)for words in corpus] \n",
        "onehot_repr[1]"
      ]
    },
    {
      "cell_type": "code",
      "execution_count": null,
      "metadata": {
        "colab": {
          "base_uri": "https://localhost:8080/"
        },
        "id": "B3EjS1H7G1y0",
        "outputId": "7f716a01-d51c-4b88-c76c-c7a5eb40e72e"
      },
      "outputs": [
        {
          "name": "stdout",
          "output_type": "stream",
          "text": [
            "[[4355 2213  891 ... 2809 3879 4650]\n",
            " [ 225 4048 3320 ... 4174 1945 3182]\n",
            " [   0    0    0 ... 4019 3862 2531]\n",
            " ...\n",
            " [3481 2508  976 ... 4411 4475 1882]\n",
            " [4631  694 2522 ... 4185 2267 4089]\n",
            " [1118 1546  654 ... 4000 4173 1460]]\n"
          ]
        }
      ],
      "source": [
        "sent_length=40\n",
        "embedded_docs=pad_sequences(onehot_repr,padding='pre',maxlen=sent_length)\n",
        "print(embedded_docs)"
      ]
    },
    {
      "cell_type": "code",
      "execution_count": null,
      "metadata": {
        "colab": {
          "base_uri": "https://localhost:8080/"
        },
        "id": "9P2LlZieG2x8",
        "outputId": "8d38dd56-e84e-4323-a725-1dfe0deed78a"
      },
      "outputs": [
        {
          "data": {
            "text/plain": [
              "array([4355, 2213,  891, 1763, 3179, 4000, 2951, 4864,  134, 2788, 4921,\n",
              "       4921,  134, 3980, 1142, 1304,  134, 4631,  134, 2730, 1165, 4174,\n",
              "       1086, 4001, 3985, 1906, 4081, 3418, 4710, 1070, 3534, 2749, 1260,\n",
              "       2761, 1327, 3143, 2260, 2809, 3879, 4650], dtype=int32)"
            ]
          },
          "execution_count": 27,
          "metadata": {},
          "output_type": "execute_result"
        }
      ],
      "source": [
        "embedded_docs[0]"
      ]
    },
    {
      "cell_type": "code",
      "execution_count": null,
      "metadata": {
        "colab": {
          "base_uri": "https://localhost:8080/"
        },
        "id": "L9FQg_fhG34x",
        "outputId": "fb815426-4803-451c-d5d1-b69cf0aacb79"
      },
      "outputs": [
        {
          "name": "stdout",
          "output_type": "stream",
          "text": [
            "Model: \"sequential_2\"\n",
            "_________________________________________________________________\n",
            " Layer (type)                Output Shape              Param #   \n",
            "=================================================================\n",
            " embedding_2 (Embedding)     (None, 40, 50)            250000    \n",
            "                                                                 \n",
            " bidirectional_2 (Bidirectio  (None, 40, 2000)         8408000   \n",
            " nal)                                                            \n",
            "                                                                 \n",
            " dropout_2 (Dropout)         (None, 40, 2000)          0         \n",
            "                                                                 \n",
            " time_distributed (TimeDistr  (None, 40, 1)            2001      \n",
            " ibuted)                                                         \n",
            "                                                                 \n",
            "=================================================================\n",
            "Total params: 8,660,001\n",
            "Trainable params: 8,660,001\n",
            "Non-trainable params: 0\n",
            "_________________________________________________________________\n",
            "None\n"
          ]
        }
      ],
      "source": [
        "## Creating model\n",
        "n_timesteps = 100\n",
        "embedding_vector_features=50\n",
        "model1=Sequential()\n",
        "model1.add(Embedding(voc_size,embedding_vector_features,input_length=sent_length))\n",
        "model1.add(Bidirectional(LSTM(1000, return_sequences=True), input_shape=(n_timesteps, 1))) ##Just add bidirectional!!, except it would just behave as normal LSTM Model\n",
        "model1.add(Dropout(0.3))\n",
        "model1.add(TimeDistributed(Dense(1, activation='sigmoid')))\n",
        "model1.compile(loss='binary_crossentropy',optimizer='adamax',metrics=['accuracy'])\n",
        "print(model1.summary())"
      ]
    },
    {
      "cell_type": "code",
      "execution_count": null,
      "metadata": {
        "colab": {
          "base_uri": "https://localhost:8080/"
        },
        "id": "Bv5_bJSfG_qz",
        "outputId": "2b344b2a-237e-4584-ff25-15413662e9d1"
      },
      "outputs": [
        {
          "data": {
            "text/plain": [
              "(15185, (15185,))"
            ]
          },
          "execution_count": 29,
          "metadata": {},
          "output_type": "execute_result"
        }
      ],
      "source": [
        "len(embedded_docs),y.shape"
      ]
    },
    {
      "cell_type": "code",
      "execution_count": null,
      "metadata": {
        "id": "0PPWGig7HCSy"
      },
      "outputs": [],
      "source": [
        "import numpy as np\n",
        "X_final=np.array(embedded_docs)\n",
        "y_final=np.array(y)"
      ]
    },
    {
      "cell_type": "code",
      "execution_count": null,
      "metadata": {
        "colab": {
          "base_uri": "https://localhost:8080/"
        },
        "id": "UVaeIFNCHDGf",
        "outputId": "95ade372-582e-4bc3-f26c-59a5ac199403"
      },
      "outputs": [
        {
          "data": {
            "text/plain": [
              "array([ 225, 4048, 3320,  119, 1016, 2686, 1770, 3480, 3119, 3479,   37,\n",
              "        256, 2329, 4394, 2123, 3275, 4435, 2123, 3029, 1808, 3342, 3549,\n",
              "       4331, 3985, 3951,  875, 4090, 2748, 4174, 2134, 3951, 3985,  241,\n",
              "       3366,  534, 4261, 1980, 4174, 1945, 3182], dtype=int32)"
            ]
          },
          "execution_count": 31,
          "metadata": {},
          "output_type": "execute_result"
        }
      ],
      "source": [
        "X_final[1]"
      ]
    },
    {
      "cell_type": "code",
      "execution_count": null,
      "metadata": {
        "id": "J8B_fz-XHEX2"
      },
      "outputs": [],
      "source": [
        "from sklearn.model_selection import train_test_split\n",
        "X_train, X_test, y_train, y_test = train_test_split(X_final, y_final, test_size=0.25, random_state=32)\n",
        "from sklearn.model_selection import train_test_split\n",
        "X_train, X_test, y_train, y_test = train_test_split(X_final, y_final, test_size=0.25, random_state=32)"
      ]
    },
    {
      "cell_type": "code",
      "execution_count": null,
      "metadata": {
        "colab": {
          "background_save": true,
          "base_uri": "https://localhost:8080/"
        },
        "id": "4rW6vuQaHFVv",
        "outputId": "2b934ad8-a6c0-4fc5-9178-35a781bf90a0"
      },
      "outputs": [
        {
          "name": "stdout",
          "output_type": "stream",
          "text": [
            "Epoch 1/30\n",
            "178/178 [==============================] - 687s 4s/step - loss: 0.1950 - accuracy: 0.9536 - val_loss: 0.2167 - val_accuracy: 0.9442\n",
            "Epoch 2/30\n",
            "178/178 [==============================] - 676s 4s/step - loss: 0.1847 - accuracy: 0.9561 - val_loss: 0.2161 - val_accuracy: 0.9442\n",
            "Epoch 3/30\n",
            "178/178 [==============================] - 674s 4s/step - loss: 0.1860 - accuracy: 0.9561 - val_loss: 0.2160 - val_accuracy: 0.9442\n",
            "Epoch 4/30\n",
            "178/178 [==============================] - 672s 4s/step - loss: 0.1844 - accuracy: 0.9561 - val_loss: 0.2162 - val_accuracy: 0.9442\n",
            "Epoch 5/30\n",
            "178/178 [==============================] - 673s 4s/step - loss: 0.1842 - accuracy: 0.9561 - val_loss: 0.2156 - val_accuracy: 0.9442\n",
            "Epoch 6/30\n",
            "178/178 [==============================] - 673s 4s/step - loss: 0.1822 - accuracy: 0.9561 - val_loss: 0.2204 - val_accuracy: 0.9442\n",
            "Epoch 7/30\n",
            "178/178 [==============================] - 673s 4s/step - loss: 0.1839 - accuracy: 0.9561 - val_loss: 0.2157 - val_accuracy: 0.9442\n",
            "Epoch 8/30\n",
            "178/178 [==============================] - 673s 4s/step - loss: 0.1841 - accuracy: 0.9561 - val_loss: 0.2261 - val_accuracy: 0.9442\n",
            "Epoch 9/30\n",
            "178/178 [==============================] - 674s 4s/step - loss: 0.1828 - accuracy: 0.9561 - val_loss: 0.2169 - val_accuracy: 0.9442\n",
            "Epoch 10/30\n",
            "178/178 [==============================] - 673s 4s/step - loss: 0.1830 - accuracy: 0.9561 - val_loss: 0.2176 - val_accuracy: 0.9442\n",
            "Epoch 11/30\n",
            "178/178 [==============================] - 674s 4s/step - loss: 0.1835 - accuracy: 0.9561 - val_loss: 0.2231 - val_accuracy: 0.9442\n",
            "Epoch 12/30\n",
            "178/178 [==============================] - 674s 4s/step - loss: 0.1830 - accuracy: 0.9561 - val_loss: 0.2199 - val_accuracy: 0.9442\n",
            "Epoch 13/30\n",
            "178/178 [==============================] - 674s 4s/step - loss: 0.1814 - accuracy: 0.9561 - val_loss: 0.2174 - val_accuracy: 0.9442\n",
            "Epoch 14/30\n",
            "178/178 [==============================] - 674s 4s/step - loss: 0.1827 - accuracy: 0.9561 - val_loss: 0.2158 - val_accuracy: 0.9442\n",
            "Epoch 15/30\n",
            "178/178 [==============================] - 674s 4s/step - loss: 0.1830 - accuracy: 0.9561 - val_loss: 0.2154 - val_accuracy: 0.9442\n",
            "Epoch 16/30\n",
            "178/178 [==============================] - 673s 4s/step - loss: 0.1832 - accuracy: 0.9561 - val_loss: 0.2159 - val_accuracy: 0.9442\n",
            "Epoch 17/30\n",
            "178/178 [==============================] - 674s 4s/step - loss: 0.1827 - accuracy: 0.9561 - val_loss: 0.2242 - val_accuracy: 0.9442\n",
            "Epoch 18/30\n",
            "178/178 [==============================] - 674s 4s/step - loss: 0.1823 - accuracy: 0.9561 - val_loss: 0.2170 - val_accuracy: 0.9442\n",
            "Epoch 19/30\n",
            "178/178 [==============================] - 673s 4s/step - loss: 0.1823 - accuracy: 0.9561 - val_loss: 0.2155 - val_accuracy: 0.9442\n",
            "Epoch 20/30\n",
            "178/178 [==============================] - 673s 4s/step - loss: 0.1824 - accuracy: 0.9561 - val_loss: 0.2171 - val_accuracy: 0.9442\n",
            "Epoch 21/30\n",
            "178/178 [==============================] - 672s 4s/step - loss: 0.1825 - accuracy: 0.9561 - val_loss: 0.2183 - val_accuracy: 0.9442\n",
            "Epoch 22/30\n",
            "178/178 [==============================] - 673s 4s/step - loss: 0.1825 - accuracy: 0.9561 - val_loss: 0.2188 - val_accuracy: 0.9442\n",
            "Epoch 23/30\n",
            "178/178 [==============================] - 674s 4s/step - loss: 0.1819 - accuracy: 0.9561 - val_loss: 0.2201 - val_accuracy: 0.9442\n",
            "Epoch 24/30\n",
            "178/178 [==============================] - 673s 4s/step - loss: 0.1821 - accuracy: 0.9561 - val_loss: 0.2170 - val_accuracy: 0.9442\n",
            "Epoch 25/30\n",
            "178/178 [==============================] - 674s 4s/step - loss: 0.1823 - accuracy: 0.9561 - val_loss: 0.2197 - val_accuracy: 0.9442\n",
            "Epoch 26/30\n",
            "178/178 [==============================] - 673s 4s/step - loss: 0.1809 - accuracy: 0.9561 - val_loss: 0.2201 - val_accuracy: 0.9442\n",
            "Epoch 27/30\n",
            "178/178 [==============================] - 677s 4s/step - loss: 0.1820 - accuracy: 0.9561 - val_loss: 0.2157 - val_accuracy: 0.9442\n",
            "Epoch 28/30\n",
            "178/178 [==============================] - 678s 4s/step - loss: 0.1816 - accuracy: 0.9561 - val_loss: 0.2190 - val_accuracy: 0.9442\n",
            "Epoch 29/30\n",
            "178/178 [==============================] - 676s 4s/step - loss: 0.1816 - accuracy: 0.9561 - val_loss: 0.2156 - val_accuracy: 0.9442\n",
            "Epoch 30/30\n",
            "178/178 [==============================] - 675s 4s/step - loss: 0.1825 - accuracy: 0.9561 - val_loss: 0.2165 - val_accuracy: 0.9442\n"
          ]
        },
        {
          "data": {
            "text/plain": [
              "<keras.callbacks.History at 0x7fc48d93b210>"
            ]
          },
          "execution_count": null,
          "metadata": {},
          "output_type": "execute_result"
        }
      ],
      "source": [
        "model1.fit(X_train,y_train,validation_data=(X_test,y_test),epochs=30,batch_size=64)"
      ]
    },
    {
      "cell_type": "code",
      "execution_count": null,
      "metadata": {
        "id": "YCZiD4clHFa_"
      },
      "outputs": [],
      "source": [
        "y_pred=model1.predict(X_test)\n",
        "classes_y = np.argmax(y_pred,axis=1)\n",
        "from sklearn.metrics import confusion_matrix\n",
        "confusion_matrix(y_test, classes_y)"
      ]
    },
    {
      "cell_type": "code",
      "execution_count": null,
      "metadata": {
        "colab": {
          "background_save": true
        },
        "id": "CEUI6_YVHJRq",
        "outputId": "972b6690-ea7f-46ef-81fa-b0900bf23cc0"
      },
      "outputs": [
        {
          "data": {
            "text/plain": [
              "0.18883328943903083"
            ]
          },
          "execution_count": null,
          "metadata": {},
          "output_type": "execute_result"
        }
      ],
      "source": [
        "from sklearn.metrics import accuracy_score\n",
        "accuracy_score(y_test,classes_y)"
      ]
    },
    {
      "cell_type": "code",
      "execution_count": null,
      "metadata": {
        "id": "FZiQQrWMHKPm"
      },
      "outputs": [],
      "source": [
        "from sklearn.metrics import classification_report\n",
        "print(classification_report(y_test,classes_y))"
      ]
    },
    {
      "cell_type": "code",
      "execution_count": null,
      "metadata": {
        "id": "j8wfQfvYBLLS"
      },
      "outputs": [],
      "source": [
        "model1.save_weights(\"./model.h5\")"
      ]
    },
    {
      "cell_type": "code",
      "execution_count": null,
      "metadata": {
        "id": "qqJwmoDNEQhW"
      },
      "outputs": [],
      "source": [
        "model1 = load_model('model_keras/model.h5')"
      ]
    },
    {
      "cell_type": "code",
      "execution_count": null,
      "metadata": {
        "id": "1m9mJuLyByAf"
      },
      "outputs": [],
      "source": [
        "model1 = tf.keras.models.load_model('model.h5')\n",
        "converter = tf.lite.TFLiteConverter.from_keras_model(model)\n",
        "tflite_model = converter.convert()\n",
        "open(\"converted_model.tflite\", \"wb\").write(tflite_model)"
      ]
    },
    {
      "cell_type": "markdown",
      "metadata": {
        "id": "rfPo1ozMFn0s"
      },
      "source": [
        "# SpaCy"
      ]
    },
    {
      "cell_type": "code",
      "execution_count": null,
      "metadata": {
        "id": "VaF9PvUAFm_e"
      },
      "outputs": [],
      "source": [
        "dataread = pd.read_csv('./fake_job_postings.csv')"
      ]
    },
    {
      "cell_type": "code",
      "execution_count": null,
      "metadata": {
        "id": "ZM5gBveSF7Ee"
      },
      "outputs": [],
      "source": [
        "import spacy"
      ]
    },
    {
      "cell_type": "code",
      "execution_count": null,
      "metadata": {
        "id": "JwIDO7VTGMI0"
      },
      "outputs": [],
      "source": [
        "nlp = spacy.blank(\"en\")\n",
        "\n",
        "textcat = nlp.create_pipe(\n",
        "              \"textcat\",\n",
        "              config={\n",
        "                \"exclusive_classes\": True,\n",
        "                \"architecture\": \"bow\"})\n",
        "\n",
        "nlp.add_pipe(textcat)"
      ]
    },
    {
      "cell_type": "code",
      "execution_count": null,
      "metadata": {
        "id": "RvfGQ4zhGfVo"
      },
      "outputs": [],
      "source": [
        "dataread().head"
      ]
    },
    {
      "cell_type": "markdown",
      "metadata": {
        "id": "uGBehX6XGpEX"
      },
      "source": [
        "check missing data"
      ]
    },
    {
      "cell_type": "code",
      "execution_count": null,
      "metadata": {
        "id": "9n4Gz4ysGj2L"
      },
      "outputs": [],
      "source": [
        "missingno.matrix(data)"
      ]
    },
    {
      "cell_type": "code",
      "execution_count": null,
      "metadata": {
        "id": "HGElXgngHOpa"
      },
      "outputs": [],
      "source": [
        "print(dataread.columns)\n",
        "data.describe()"
      ]
    },
    {
      "cell_type": "code",
      "execution_count": null,
      "metadata": {
        "id": "2ncXL88gHtaV"
      },
      "outputs": [],
      "source": [
        "import seaborn as sns"
      ]
    },
    {
      "cell_type": "code",
      "execution_count": null,
      "metadata": {
        "id": "3atOOo-dHu6J"
      },
      "outputs": [],
      "source": [
        "sns.countplot(dataread.fraudulent)\n",
        "dataread.groupby('fraudulent').count()['title'].reset_index().sort_values(by='title',ascending=False)"
      ]
    },
    {
      "cell_type": "code",
      "execution_count": null,
      "metadata": {
        "id": "uvZa36dWH9hz"
      },
      "outputs": [],
      "source": [
        "columns=['job_id', 'telecommuting', 'has_company_logo', 'has_questions', 'salary_range', 'employment_type']\n",
        "for col in columns:\n",
        "    del data[col]\n",
        "\n",
        "dataread.fillna(' ', inplace=True)"
      ]
    },
    {
      "cell_type": "code",
      "execution_count": null,
      "metadata": {
        "id": "p1L9lgvlH5y-"
      },
      "outputs": [],
      "source": [
        "dataread.head()"
      ]
    },
    {
      "cell_type": "code",
      "execution_count": null,
      "metadata": {
        "id": "rp_ldhbHIPNz"
      },
      "outputs": [],
      "source": [
        "def split(location):\n",
        "    l = location.split(',')\n",
        "    return l[0]\n",
        "\n",
        "dataread['title'] = dataread.location.apply(split)"
      ]
    },
    {
      "cell_type": "code",
      "execution_count": null,
      "metadata": {
        "id": "wSDmgsZIIJYY"
      },
      "outputs": [],
      "source": [
        "titlejob = dict(dataread.titlejob.value_counts()[:11])\n",
        "del titlejob[' ']\n",
        "plt.figure(figsize=(8,6))\n",
        "plt.title('No. of job postings title wise', size=20)\n",
        "plt.bar(titlejob.keys(), titlejob.values())\n",
        "plt.ylabel('No. of jobs', size=10)\n",
        "plt.xlabel('title', size=10)"
      ]
    },
    {
      "cell_type": "code",
      "execution_count": null,
      "metadata": {
        "id": "BqZR_yhbIeGG"
      },
      "outputs": [],
      "source": [
        "experience = dict(dataread.required_experience.value_counts())\n",
        "del experience[' ']\n",
        "plt.bar(experience.keys(), experience.values())\n",
        "plt.xlabel('Experience', size=10)\n",
        "plt.ylabel('no. of jobs', size=10)\n",
        "plt.xticks(rotation=35)\n",
        "plt.show()"
      ]
    },
    {
      "cell_type": "code",
      "execution_count": null,
      "metadata": {
        "id": "i80xHjUoIp7t"
      },
      "outputs": [],
      "source": [
        "print(data.title.value_counts()[:10])"
      ]
    },
    {
      "cell_type": "code",
      "execution_count": null,
      "metadata": {
        "id": "okQnWdsAI1Rf"
      },
      "outputs": [],
      "source": [
        "dataread['text']=dataread['title']+' '+dataread['location']+' '+dataread['company_profile']+' '+dataread['description']+' '+dataread['requirements']+' '+dataread['benefits']\n",
        "del dataread['title']\n",
        "del dataread['location']\n",
        "del dataread['department']\n",
        "del dataread['company_profile']\n",
        "del dataread['description']\n",
        "del dataread['requirements']\n",
        "del dataread['benefits']\n",
        "del dataread['required_experience']\n",
        "del dataread['required_education']\n",
        "del dataread['industry']\n",
        "del dataread['function']\n",
        "del dataread['country']"
      ]
    },
    {
      "cell_type": "code",
      "execution_count": null,
      "metadata": {
        "id": "yOVxaUWjI2eN"
      },
      "outputs": [],
      "source": [
        "dataread.head()"
      ]
    },
    {
      "cell_type": "code",
      "execution_count": null,
      "metadata": {
        "id": "Yu50K_MDI76c"
      },
      "outputs": [],
      "source": [
        "fraudjobs_text = dataread[dataread.fraudulent==1].text\n",
        "actualjobs_text = dataread[dataread.fraudulent==0].text"
      ]
    },
    {
      "cell_type": "code",
      "execution_count": null,
      "metadata": {
        "id": "wb-gEzitJB-P"
      },
      "outputs": [],
      "source": [
        "STOPWORDS = spacy.lang.en.stop_words.STOP_WORDS\n",
        "plt.figure(figsize = (16,14))\n",
        "wc = WordCloud(min_font_size = 3,  max_words = 3000 , width = 1600 , height = 800 , stopwords = STOPWORDS).generate(str(\" \".join(fraudjobs_text)))\n",
        "plt.imshow(wc,interpolation = 'bilinear')"
      ]
    },
    {
      "cell_type": "code",
      "execution_count": null,
      "metadata": {
        "id": "BcabA-qTJE8D"
      },
      "outputs": [],
      "source": [
        "plt.figure(figsize = (16,14))\n",
        "wc = WordCloud(min_font_size = 3,  max_words = 3000 , width = 1600 , height = 800 , stopwords = STOPWORDS).generate(str(\" \".join(actualjobs_text)))\n",
        "plt.imshow(wc,interpolation = 'bilinear')"
      ]
    },
    {
      "cell_type": "markdown",
      "metadata": {
        "id": "XScxISyfJKV2"
      },
      "source": [
        "Cleaning Data"
      ]
    },
    {
      "cell_type": "code",
      "execution_count": null,
      "metadata": {
        "id": "1K1nwfY2JJiP"
      },
      "outputs": [],
      "source": [
        "punctuations = string.punctuation\n",
        "\n",
        "nlp = spacy.load('en')\n",
        "stop_words = spacy.lang.en.stop_words.STOP_WORDS\n",
        "\n",
        "parser = English()"
      ]
    },
    {
      "cell_type": "code",
      "execution_count": null,
      "metadata": {
        "id": "_lMCr2zDJVYp"
      },
      "outputs": [],
      "source": [
        "def spacy_tokenizer(sentence):\n",
        "  mytokens = parser(sentence)\n",
        "  mytokens = [ word.lemma_.lower().strip() if word.lemma_ != \"-PRON-\" else word.lower_ for word in mytokens ]\n",
        "  mytokens = [ word for word in mytokens if word not in stop_words and word not in punctuations ]\n",
        "\n",
        "  return mytokens"
      ]
    },
    {
      "cell_type": "code",
      "execution_count": null,
      "metadata": {
        "id": "TbUdlJJfJhko"
      },
      "outputs": [],
      "source": [
        "class predictors(TransformerMixin):\n",
        "    def transform(self, X, **transform_params):\n",
        "        return [clean_text(text) for text in X]\n",
        "\n",
        "    def fit(self, X, y=None, **fit_params):\n",
        "        return self\n",
        "\n",
        "    def get_params(self, deep=True):\n",
        "        return {}\n",
        "\n",
        "def clean_text(text):\n",
        "    return text.strip().lower()"
      ]
    },
    {
      "cell_type": "code",
      "execution_count": null,
      "metadata": {
        "id": "Hxzg01dGJlrk"
      },
      "outputs": [],
      "source": [
        "bow_vector = CountVectorizer(tokenizer = spacy_tokenizer, ngram_range=(1,3))"
      ]
    },
    {
      "cell_type": "code",
      "execution_count": null,
      "metadata": {
        "id": "9WqOvFTILbM5"
      },
      "outputs": [],
      "source": [
        "Xb_train, Xb_test, yb_train, yb_test = train_test_split(data.text, data.fraudulent, test_size=0.3)"
      ]
    },
    {
      "cell_type": "code",
      "execution_count": null,
      "metadata": {
        "id": "DksGrTTxLeMr"
      },
      "outputs": [],
      "source": [
        "clf = LogisticRegression()\n",
        "\n",
        "# Create pipeline using Bag of Words\n",
        "pipe = Pipeline([(\"cleaner\", predictors()),\n",
        "                 ('vectorizer', bow_vector),\n",
        "                 ('classifier', clf)])\n",
        "\n",
        "# fitting our model.\n",
        "pipe.fit(Xb_train,yb_train)"
      ]
    },
    {
      "cell_type": "code",
      "execution_count": null,
      "metadata": {
        "id": "gZsrTREGLi2Z"
      },
      "outputs": [],
      "source": [
        "# Predicting with a test dataset\n",
        "predicted = pipe.predict(Xb_test)\n",
        "\n",
        "# Model Accuracy\n",
        "print(\"Logistic Regression Accuracy:\", accuracy_score(yb_test, predicted))\n",
        "print(\"Logistic Regression Recall:\", recall_score(yb_test, predicted))"
      ]
    },
    {
      "cell_type": "code",
      "execution_count": null,
      "metadata": {
        "id": "4floANQdLndQ"
      },
      "outputs": [],
      "source": [
        "plot_confusion_matrix(pipe, Xb_test, yb_test, cmap='Blues', values_format=' ')"
      ]
    },
    {
      "cell_type": "markdown",
      "metadata": {
        "id": "hKUOS28vLvZy"
      },
      "source": [
        "# Bikin Prediksi"
      ]
    },
    {
      "cell_type": "code",
      "execution_count": null,
      "metadata": {
        "id": "3nE-VNqnMSiy"
      },
      "outputs": [],
      "source": [
        "textcat.add_label(\"fraud\")\n",
        "textcat.add_label(\"real\")"
      ]
    },
    {
      "cell_type": "code",
      "execution_count": null,
      "metadata": {
        "id": "7ryPCdFuLvM_"
      },
      "outputs": [],
      "source": [
        "texts = [\"HAVE YOU EVER BEEN A DJ????? It's gonna be wild\",\n",
        "         \"URGENT Reply to this message for applying as a dj!!\" ]\n",
        "docs = [nlp.tokenizer(text) for text in texts]"
      ]
    },
    {
      "cell_type": "code",
      "execution_count": null,
      "metadata": {
        "id": "ATYk6vcpMEqC"
      },
      "outputs": [],
      "source": [
        "# Use textcat to get the scores for each doc\n",
        "textcat = nlp.get_pipe('textcat')\n",
        "scores, _ = textcat.predict(docs)\n",
        "\n",
        "print(scores)"
      ]
    },
    {
      "cell_type": "code",
      "execution_count": null,
      "metadata": {
        "id": "ZUu5ypXIMIb-"
      },
      "outputs": [],
      "source": [
        "# From the scores, find the label with the highest score/probability\n",
        "predicted_labels = scores.argmax(axis=1)\n",
        "print([textcat.labels[label] for label in predicted_labels])"
      ]
    },
    {
      "cell_type": "code",
      "source": [
        ""
      ],
      "metadata": {
        "id": "2H4xGFDloXvI"
      },
      "execution_count": null,
      "outputs": []
    },
    {
      "cell_type": "code",
      "source": [
        ""
      ],
      "metadata": {
        "id": "g_1EPDCJofgx"
      },
      "execution_count": null,
      "outputs": []
    }
  ],
  "metadata": {
    "colab": {
      "name": "Real or Fake Job-Postings with Bi-Directional LSTM",
      "provenance": []
    },
    "kernelspec": {
      "display_name": "Python 3",
      "name": "python3"
    },
    "language_info": {
      "name": "python"
    }
  },
  "nbformat": 4,
  "nbformat_minor": 0
}